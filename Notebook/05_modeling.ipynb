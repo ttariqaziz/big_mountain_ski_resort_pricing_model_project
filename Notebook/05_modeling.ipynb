{
  "cells": [
    {
      "cell_type": "markdown",
      "metadata": {
        "id": "xt_hYmX4VTZB"
      },
      "source": [
        "# 5 Modeling<a id='5_Modeling'></a>"
      ]
    },
    {
      "cell_type": "markdown",
      "metadata": {
        "id": "h9p5uYKGVTZC"
      },
      "source": [
        "## 5.1 Contents<a id='5.1_Contents'></a>\n",
        "* [5 Modeling](#5_Modeling)\n",
        "  * [5.1 Contents](#5.1_Contents)\n",
        "  * [5.2 Introduction](#5.2_Introduction)\n",
        "  * [5.3 Imports](#5.3_Imports)\n",
        "  * [5.4 Load Model](#5.4_Load_Model)\n",
        "  * [5.5 Load Data](#5.5_Load_Data)\n",
        "  * [5.6 Refit Model On All Available Data (excluding Big Mountain)](#5.6_Refit_Model_On_All_Available_Data_(excluding_Big_Mountain))\n",
        "  * [5.7 Calculate Expected Big Mountain Ticket Price From The Model](#5.7_Calculate_Expected_Big_Mountain_Ticket_Price_From_The_Model)\n",
        "  * [5.8 Big Mountain Resort In Market Context](#5.8_Big_Mountain_Resort_In_Market_Context)\n",
        "    * [5.8.1 Ticket price](#5.8.1_Ticket_price)\n",
        "    * [5.8.2 Vertical drop](#5.8.2_Vertical_drop)\n",
        "    * [5.8.3 Snow making area](#5.8.3_Snow_making_area)\n",
        "    * [5.8.4 Total number of chairs](#5.8.4_Total_number_of_chairs)\n",
        "    * [5.8.5 Fast quads](#5.8.5_Fast_quads)\n",
        "    * [5.8.6 Runs](#5.8.6_Runs)\n",
        "    * [5.8.7 Longest run](#5.8.7_Longest_run)\n",
        "    * [5.8.8 Trams](#5.8.8_Trams)\n",
        "    * [5.8.9 Skiable terrain area](#5.8.9_Skiable_terrain_area)\n",
        "  * [5.9 Modeling scenarios](#5.9_Modeling_scenarios)\n",
        "    * [5.9.1 Scenario 1](#5.9.1_Scenario_1)\n",
        "    * [5.9.2 Scenario 2](#5.9.2_Scenario_2)\n",
        "    * [5.9.3 Scenario 3](#5.9.3_Scenario_3)\n",
        "    * [5.9.4 Scenario 4](#5.9.4_Scenario_4)\n",
        "  * [5.10 Summary](#5.10_Summary)\n",
        "  * [5.11 Further work](#5.11_Further_work)\n"
      ]
    },
    {
      "cell_type": "markdown",
      "metadata": {
        "id": "VT6k4v5OVTZD"
      },
      "source": [
        "## 5.2 Introduction<a id='5.2_Introduction'></a>"
      ]
    },
    {
      "cell_type": "markdown",
      "metadata": {
        "id": "iK4p2OF5VTZD"
      },
      "source": [
        "In this notebook, we now take our model for ski resort ticket price and leverage it to gain some insights into what price Big Mountain's facilities might actually support as well as explore the sensitivity of changes to various resort parameters. Note that this relies on the implicit assumption that all other resorts are largely setting prices based on how much people value certain facilities. Essentially this assumes prices are set by a free market.\n",
        "\n",
        "We can now use our model to gain insight into what Big Mountain's ideal ticket price could/should be, and how that might change under various scenarios."
      ]
    },
    {
      "cell_type": "markdown",
      "metadata": {
        "id": "A8yRn6_YVTZD"
      },
      "source": [
        "## 5.3 Imports<a id='5.3_Imports'></a>"
      ]
    },
    {
      "cell_type": "code",
      "execution_count": 1,
      "metadata": {
        "id": "jIqu6x5wVTZE"
      },
      "outputs": [],
      "source": [
        "import pandas as pd\n",
        "import numpy as np\n",
        "import os\n",
        "import pickle\n",
        "import matplotlib.pyplot as plt\n",
        "import seaborn as sns\n",
        "from sklearn import __version__ as sklearn_version\n",
        "from sklearn.model_selection import cross_validate"
      ]
    },
    {
      "cell_type": "markdown",
      "metadata": {
        "id": "F6bgFWbfVTZE"
      },
      "source": [
        "## 5.4 Load Model<a id='5.4_Load_Model'></a>"
      ]
    },
    {
      "cell_type": "code",
      "execution_count": 41,
      "metadata": {
        "colab": {
          "base_uri": "https://localhost:8080/"
        },
        "id": "GaKMwwchVTZF",
        "outputId": "be98e6bc-b5b1-4011-8619-e077be0b181f"
      },
      "outputs": [
        {
          "output_type": "stream",
          "name": "stdout",
          "text": [
            "Expected model version doesn't match version loaded\n"
          ]
        }
      ],
      "source": [
        "# This isn't exactly production-grade, but a quick check for development\n",
        "# These checks can save some head-scratching in development when moving from\n",
        "# one python environment to another, for example\n",
        "expected_model_version = '1.0'\n",
        "#model_path = '../models/ski_resort_pricing_model.pkl'\n",
        "model_path = '/content/sample_data/ski_resort_pricing_model.pkl'\n",
        "if os.path.exists(model_path):\n",
        "    with open(model_path, 'rb') as f:\n",
        "        model = pickle.load(f)\n",
        "    if model.version != expected_model_version:\n",
        "        print(\"Expected model version doesn't match version loaded\")\n",
        "    if model.sklearn_version != sklearn_version:\n",
        "        print(\"Warning: model created under different sklearn version\")\n",
        "else:\n",
        "    print(\"Expected model not found\")"
      ]
    },
    {
      "cell_type": "markdown",
      "metadata": {
        "id": "O7TAPkt2VTZF"
      },
      "source": [
        "## 5.5 Load Data<a id='5.5_Load_Data'></a>"
      ]
    },
    {
      "cell_type": "code",
      "execution_count": 3,
      "metadata": {
        "id": "HfGykp4zVTZF"
      },
      "outputs": [],
      "source": [
        "#ski_data = pd.read_csv('../data/ski_data_step3_features.csv')\n",
        "ski_data = pd.read_csv('/content/sample_data/ski_data_step3_features.csv')"
      ]
    },
    {
      "cell_type": "code",
      "execution_count": 4,
      "metadata": {
        "id": "d2wpZPRyVTZF"
      },
      "outputs": [],
      "source": [
        "big_mountain = ski_data[ski_data.Name == 'Big Mountain Resort']"
      ]
    },
    {
      "cell_type": "code",
      "execution_count": 5,
      "metadata": {
        "scrolled": true,
        "colab": {
          "base_uri": "https://localhost:8080/",
          "height": 1000
        },
        "id": "g3Lgwj7SVTZF",
        "outputId": "c8367a4d-61fc-4ec7-d4cd-65bec2a5664a"
      },
      "outputs": [
        {
          "output_type": "execute_result",
          "data": {
            "text/plain": [
              "                                                    124\n",
              "Name                                Big Mountain Resort\n",
              "Region                                          Montana\n",
              "state                                           Montana\n",
              "summit_elev                                        6817\n",
              "vertical_drop                                      2353\n",
              "base_elev                                          4464\n",
              "trams                                                 0\n",
              "fastSixes                                             0\n",
              "fastQuads                                             3\n",
              "quad                                                  2\n",
              "triple                                                6\n",
              "double                                                0\n",
              "surface                                               3\n",
              "total_chairs                                         14\n",
              "Runs                                              105.0\n",
              "TerrainParks                                        4.0\n",
              "LongestRun_mi                                       3.3\n",
              "SkiableTerrain_ac                                3000.0\n",
              "Snow Making_ac                                    600.0\n",
              "daysOpenLastYear                                  123.0\n",
              "yearsOpen                                          72.0\n",
              "averageSnowfall                                   333.0\n",
              "AdultWeekend                                       81.0\n",
              "projectedDaysOpen                                 123.0\n",
              "NightSkiing_ac                                    600.0\n",
              "resorts_per_state                                    12\n",
              "resorts_per_100kcapita                         1.122778\n",
              "resorts_per_100ksq_mile                        8.161045\n",
              "resort_skiable_area_ac_state_ratio             0.140121\n",
              "resort_days_open_state_ratio                   0.129338\n",
              "resort_terrain_park_state_ratio                0.148148\n",
              "resort_night_skiing_state_ratio                 0.84507\n",
              "total_chairs_runs_ratio                        0.133333\n",
              "total_chairs_skiable_ratio                     0.004667\n",
              "fastQuads_runs_ratio                           0.028571\n",
              "fastQuads_skiable_ratio                           0.001"
            ],
            "text/html": [
              "\n",
              "  <div id=\"df-25046b17-d7f2-4e14-b882-8dfe94ed2b71\">\n",
              "    <div class=\"colab-df-container\">\n",
              "      <div>\n",
              "<style scoped>\n",
              "    .dataframe tbody tr th:only-of-type {\n",
              "        vertical-align: middle;\n",
              "    }\n",
              "\n",
              "    .dataframe tbody tr th {\n",
              "        vertical-align: top;\n",
              "    }\n",
              "\n",
              "    .dataframe thead th {\n",
              "        text-align: right;\n",
              "    }\n",
              "</style>\n",
              "<table border=\"1\" class=\"dataframe\">\n",
              "  <thead>\n",
              "    <tr style=\"text-align: right;\">\n",
              "      <th></th>\n",
              "      <th>124</th>\n",
              "    </tr>\n",
              "  </thead>\n",
              "  <tbody>\n",
              "    <tr>\n",
              "      <th>Name</th>\n",
              "      <td>Big Mountain Resort</td>\n",
              "    </tr>\n",
              "    <tr>\n",
              "      <th>Region</th>\n",
              "      <td>Montana</td>\n",
              "    </tr>\n",
              "    <tr>\n",
              "      <th>state</th>\n",
              "      <td>Montana</td>\n",
              "    </tr>\n",
              "    <tr>\n",
              "      <th>summit_elev</th>\n",
              "      <td>6817</td>\n",
              "    </tr>\n",
              "    <tr>\n",
              "      <th>vertical_drop</th>\n",
              "      <td>2353</td>\n",
              "    </tr>\n",
              "    <tr>\n",
              "      <th>base_elev</th>\n",
              "      <td>4464</td>\n",
              "    </tr>\n",
              "    <tr>\n",
              "      <th>trams</th>\n",
              "      <td>0</td>\n",
              "    </tr>\n",
              "    <tr>\n",
              "      <th>fastSixes</th>\n",
              "      <td>0</td>\n",
              "    </tr>\n",
              "    <tr>\n",
              "      <th>fastQuads</th>\n",
              "      <td>3</td>\n",
              "    </tr>\n",
              "    <tr>\n",
              "      <th>quad</th>\n",
              "      <td>2</td>\n",
              "    </tr>\n",
              "    <tr>\n",
              "      <th>triple</th>\n",
              "      <td>6</td>\n",
              "    </tr>\n",
              "    <tr>\n",
              "      <th>double</th>\n",
              "      <td>0</td>\n",
              "    </tr>\n",
              "    <tr>\n",
              "      <th>surface</th>\n",
              "      <td>3</td>\n",
              "    </tr>\n",
              "    <tr>\n",
              "      <th>total_chairs</th>\n",
              "      <td>14</td>\n",
              "    </tr>\n",
              "    <tr>\n",
              "      <th>Runs</th>\n",
              "      <td>105.0</td>\n",
              "    </tr>\n",
              "    <tr>\n",
              "      <th>TerrainParks</th>\n",
              "      <td>4.0</td>\n",
              "    </tr>\n",
              "    <tr>\n",
              "      <th>LongestRun_mi</th>\n",
              "      <td>3.3</td>\n",
              "    </tr>\n",
              "    <tr>\n",
              "      <th>SkiableTerrain_ac</th>\n",
              "      <td>3000.0</td>\n",
              "    </tr>\n",
              "    <tr>\n",
              "      <th>Snow Making_ac</th>\n",
              "      <td>600.0</td>\n",
              "    </tr>\n",
              "    <tr>\n",
              "      <th>daysOpenLastYear</th>\n",
              "      <td>123.0</td>\n",
              "    </tr>\n",
              "    <tr>\n",
              "      <th>yearsOpen</th>\n",
              "      <td>72.0</td>\n",
              "    </tr>\n",
              "    <tr>\n",
              "      <th>averageSnowfall</th>\n",
              "      <td>333.0</td>\n",
              "    </tr>\n",
              "    <tr>\n",
              "      <th>AdultWeekend</th>\n",
              "      <td>81.0</td>\n",
              "    </tr>\n",
              "    <tr>\n",
              "      <th>projectedDaysOpen</th>\n",
              "      <td>123.0</td>\n",
              "    </tr>\n",
              "    <tr>\n",
              "      <th>NightSkiing_ac</th>\n",
              "      <td>600.0</td>\n",
              "    </tr>\n",
              "    <tr>\n",
              "      <th>resorts_per_state</th>\n",
              "      <td>12</td>\n",
              "    </tr>\n",
              "    <tr>\n",
              "      <th>resorts_per_100kcapita</th>\n",
              "      <td>1.122778</td>\n",
              "    </tr>\n",
              "    <tr>\n",
              "      <th>resorts_per_100ksq_mile</th>\n",
              "      <td>8.161045</td>\n",
              "    </tr>\n",
              "    <tr>\n",
              "      <th>resort_skiable_area_ac_state_ratio</th>\n",
              "      <td>0.140121</td>\n",
              "    </tr>\n",
              "    <tr>\n",
              "      <th>resort_days_open_state_ratio</th>\n",
              "      <td>0.129338</td>\n",
              "    </tr>\n",
              "    <tr>\n",
              "      <th>resort_terrain_park_state_ratio</th>\n",
              "      <td>0.148148</td>\n",
              "    </tr>\n",
              "    <tr>\n",
              "      <th>resort_night_skiing_state_ratio</th>\n",
              "      <td>0.84507</td>\n",
              "    </tr>\n",
              "    <tr>\n",
              "      <th>total_chairs_runs_ratio</th>\n",
              "      <td>0.133333</td>\n",
              "    </tr>\n",
              "    <tr>\n",
              "      <th>total_chairs_skiable_ratio</th>\n",
              "      <td>0.004667</td>\n",
              "    </tr>\n",
              "    <tr>\n",
              "      <th>fastQuads_runs_ratio</th>\n",
              "      <td>0.028571</td>\n",
              "    </tr>\n",
              "    <tr>\n",
              "      <th>fastQuads_skiable_ratio</th>\n",
              "      <td>0.001</td>\n",
              "    </tr>\n",
              "  </tbody>\n",
              "</table>\n",
              "</div>\n",
              "      <button class=\"colab-df-convert\" onclick=\"convertToInteractive('df-25046b17-d7f2-4e14-b882-8dfe94ed2b71')\"\n",
              "              title=\"Convert this dataframe to an interactive table.\"\n",
              "              style=\"display:none;\">\n",
              "        \n",
              "  <svg xmlns=\"http://www.w3.org/2000/svg\" height=\"24px\"viewBox=\"0 0 24 24\"\n",
              "       width=\"24px\">\n",
              "    <path d=\"M0 0h24v24H0V0z\" fill=\"none\"/>\n",
              "    <path d=\"M18.56 5.44l.94 2.06.94-2.06 2.06-.94-2.06-.94-.94-2.06-.94 2.06-2.06.94zm-11 1L8.5 8.5l.94-2.06 2.06-.94-2.06-.94L8.5 2.5l-.94 2.06-2.06.94zm10 10l.94 2.06.94-2.06 2.06-.94-2.06-.94-.94-2.06-.94 2.06-2.06.94z\"/><path d=\"M17.41 7.96l-1.37-1.37c-.4-.4-.92-.59-1.43-.59-.52 0-1.04.2-1.43.59L10.3 9.45l-7.72 7.72c-.78.78-.78 2.05 0 2.83L4 21.41c.39.39.9.59 1.41.59.51 0 1.02-.2 1.41-.59l7.78-7.78 2.81-2.81c.8-.78.8-2.07 0-2.86zM5.41 20L4 18.59l7.72-7.72 1.47 1.35L5.41 20z\"/>\n",
              "  </svg>\n",
              "      </button>\n",
              "      \n",
              "  <style>\n",
              "    .colab-df-container {\n",
              "      display:flex;\n",
              "      flex-wrap:wrap;\n",
              "      gap: 12px;\n",
              "    }\n",
              "\n",
              "    .colab-df-convert {\n",
              "      background-color: #E8F0FE;\n",
              "      border: none;\n",
              "      border-radius: 50%;\n",
              "      cursor: pointer;\n",
              "      display: none;\n",
              "      fill: #1967D2;\n",
              "      height: 32px;\n",
              "      padding: 0 0 0 0;\n",
              "      width: 32px;\n",
              "    }\n",
              "\n",
              "    .colab-df-convert:hover {\n",
              "      background-color: #E2EBFA;\n",
              "      box-shadow: 0px 1px 2px rgba(60, 64, 67, 0.3), 0px 1px 3px 1px rgba(60, 64, 67, 0.15);\n",
              "      fill: #174EA6;\n",
              "    }\n",
              "\n",
              "    [theme=dark] .colab-df-convert {\n",
              "      background-color: #3B4455;\n",
              "      fill: #D2E3FC;\n",
              "    }\n",
              "\n",
              "    [theme=dark] .colab-df-convert:hover {\n",
              "      background-color: #434B5C;\n",
              "      box-shadow: 0px 1px 3px 1px rgba(0, 0, 0, 0.15);\n",
              "      filter: drop-shadow(0px 1px 2px rgba(0, 0, 0, 0.3));\n",
              "      fill: #FFFFFF;\n",
              "    }\n",
              "  </style>\n",
              "\n",
              "      <script>\n",
              "        const buttonEl =\n",
              "          document.querySelector('#df-25046b17-d7f2-4e14-b882-8dfe94ed2b71 button.colab-df-convert');\n",
              "        buttonEl.style.display =\n",
              "          google.colab.kernel.accessAllowed ? 'block' : 'none';\n",
              "\n",
              "        async function convertToInteractive(key) {\n",
              "          const element = document.querySelector('#df-25046b17-d7f2-4e14-b882-8dfe94ed2b71');\n",
              "          const dataTable =\n",
              "            await google.colab.kernel.invokeFunction('convertToInteractive',\n",
              "                                                     [key], {});\n",
              "          if (!dataTable) return;\n",
              "\n",
              "          const docLinkHtml = 'Like what you see? Visit the ' +\n",
              "            '<a target=\"_blank\" href=https://colab.research.google.com/notebooks/data_table.ipynb>data table notebook</a>'\n",
              "            + ' to learn more about interactive tables.';\n",
              "          element.innerHTML = '';\n",
              "          dataTable['output_type'] = 'display_data';\n",
              "          await google.colab.output.renderOutput(dataTable, element);\n",
              "          const docLink = document.createElement('div');\n",
              "          docLink.innerHTML = docLinkHtml;\n",
              "          element.appendChild(docLink);\n",
              "        }\n",
              "      </script>\n",
              "    </div>\n",
              "  </div>\n",
              "  "
            ]
          },
          "metadata": {},
          "execution_count": 5
        }
      ],
      "source": [
        "big_mountain.T"
      ]
    },
    {
      "cell_type": "markdown",
      "metadata": {
        "id": "qoRSq3c6VTZG"
      },
      "source": [
        "## 5.6 Refit Model On All Available Data (excluding Big Mountain)<a id='5.6_Refit_Model_On_All_Available_Data_(excluding_Big_Mountain)'></a>"
      ]
    },
    {
      "cell_type": "markdown",
      "metadata": {
        "id": "Q6JPcWI2VTZG"
      },
      "source": [
        "This next step requires some careful thought. We want to refit the model using all available data. But should we include Big Mountain data? On the one hand, we are _not_ trying to estimate model performance on a previously unseen data sample, so theoretically including Big Mountain data should be fine. One might first think that including Big Mountain in the model training would, if anything, improve model performance in predicting Big Mountain's ticket price. But here's where our business context comes in. The motivation for this entire project is based on the sense that Big Mountain needs to adjust its pricing. One way to phrase this problem: we want to train a model to predict Big Mountain's ticket price based on data from _all the other_ resorts! We don't want Big Mountain's current price to bias this. We want to calculate a price based only on its competitors."
      ]
    },
    {
      "cell_type": "code",
      "execution_count": 7,
      "metadata": {
        "id": "EmZCsQsmVTZG"
      },
      "outputs": [],
      "source": [
        "X = ski_data.loc[ski_data.Name != \"Big Mountain Resort\", model.X_columns]\n",
        "y = ski_data.loc[ski_data.Name != \"Big Mountain Resort\", 'AdultWeekend']"
      ]
    },
    {
      "cell_type": "code",
      "execution_count": 8,
      "metadata": {
        "colab": {
          "base_uri": "https://localhost:8080/"
        },
        "id": "0JCkEgiOVTZG",
        "outputId": "51812b64-ef46-4043-dcaf-9c0668f97cd6"
      },
      "outputs": [
        {
          "output_type": "execute_result",
          "data": {
            "text/plain": [
              "(276, 276)"
            ]
          },
          "metadata": {},
          "execution_count": 8
        }
      ],
      "source": [
        "len(X), len(y)"
      ]
    },
    {
      "cell_type": "code",
      "execution_count": 9,
      "metadata": {
        "colab": {
          "base_uri": "https://localhost:8080/"
        },
        "id": "fIyJq4UoVTZG",
        "outputId": "2ba39dd0-739f-4815-9b70-d2c8e16da072"
      },
      "outputs": [
        {
          "output_type": "execute_result",
          "data": {
            "text/plain": [
              "Pipeline(steps=[('simpleimputer', SimpleImputer(strategy='median')),\n",
              "                ('standardscaler', None),\n",
              "                ('randomforestregressor',\n",
              "                 RandomForestRegressor(n_estimators=69, random_state=47))])"
            ]
          },
          "metadata": {},
          "execution_count": 9
        }
      ],
      "source": [
        "model.fit(X, y)"
      ]
    },
    {
      "cell_type": "code",
      "execution_count": 10,
      "metadata": {
        "id": "J0RMntQvVTZH"
      },
      "outputs": [],
      "source": [
        "cv_results = cross_validate(model, X, y, scoring='neg_mean_absolute_error', cv=5, n_jobs=-1)"
      ]
    },
    {
      "cell_type": "code",
      "execution_count": 11,
      "metadata": {
        "colab": {
          "base_uri": "https://localhost:8080/"
        },
        "id": "XdhbxSKkVTZH",
        "outputId": "a5c7bd72-4d26-46ea-8a04-07f78012e76a"
      },
      "outputs": [
        {
          "output_type": "execute_result",
          "data": {
            "text/plain": [
              "array([-12.09690217,  -9.30247694, -11.41595784,  -8.10096706,\n",
              "       -11.04942819])"
            ]
          },
          "metadata": {},
          "execution_count": 11
        }
      ],
      "source": [
        "cv_results['test_score']"
      ]
    },
    {
      "cell_type": "code",
      "execution_count": 12,
      "metadata": {
        "colab": {
          "base_uri": "https://localhost:8080/"
        },
        "id": "OlO15tfAVTZH",
        "outputId": "e12e5250-2d86-4d80-b25b-017cedc6529c"
      },
      "outputs": [
        {
          "output_type": "execute_result",
          "data": {
            "text/plain": [
              "(10.393146442687748, 1.4712769116280346)"
            ]
          },
          "metadata": {},
          "execution_count": 12
        }
      ],
      "source": [
        "mae_mean, mae_std = np.mean(-1 * cv_results['test_score']), np.std(-1 * cv_results['test_score'])\n",
        "mae_mean, mae_std"
      ]
    },
    {
      "cell_type": "markdown",
      "metadata": {
        "id": "t5uP4GSRVTZH"
      },
      "source": [
        "These numbers will inevitably be different to those in the previous step that used a different training data set. They should, however, be consistent. It's important to appreciate that estimates of model performance are subject to the noise and uncertainty of data!"
      ]
    },
    {
      "cell_type": "markdown",
      "metadata": {
        "id": "wPiFSIeiVTZH"
      },
      "source": [
        "## 5.7 Calculate Expected Big Mountain Ticket Price From The Model<a id='5.7_Calculate_Expected_Big_Mountain_Ticket_Price_From_The_Model'></a>"
      ]
    },
    {
      "cell_type": "code",
      "execution_count": 13,
      "metadata": {
        "id": "x946PYzrVTZH"
      },
      "outputs": [],
      "source": [
        "X_bm = ski_data.loc[ski_data.Name == \"Big Mountain Resort\", model.X_columns]\n",
        "y_bm = ski_data.loc[ski_data.Name == \"Big Mountain Resort\", 'AdultWeekend']"
      ]
    },
    {
      "cell_type": "code",
      "execution_count": 14,
      "metadata": {
        "id": "gkb-I5wHVTZI"
      },
      "outputs": [],
      "source": [
        "bm_pred = model.predict(X_bm).item()"
      ]
    },
    {
      "cell_type": "code",
      "execution_count": 15,
      "metadata": {
        "id": "fkhd03oXVTZI"
      },
      "outputs": [],
      "source": [
        "y_bm = y_bm.values.item()"
      ]
    },
    {
      "cell_type": "code",
      "execution_count": 16,
      "metadata": {
        "colab": {
          "base_uri": "https://localhost:8080/"
        },
        "id": "j3L_DjQ0VTZI",
        "outputId": "994fb3e9-88d8-41c5-d6ff-be579bf7d095"
      },
      "outputs": [
        {
          "output_type": "stream",
          "name": "stdout",
          "text": [
            "Big Mountain Resort modelled price is $95.87, actual price is $81.00.\n",
            "Even with the expected mean absolute error of $10.39, this suggests there is room for an increase.\n"
          ]
        }
      ],
      "source": [
        "print(f'Big Mountain Resort modelled price is ${bm_pred:.2f}, actual price is ${y_bm:.2f}.')\n",
        "print(f'Even with the expected mean absolute error of ${mae_mean:.2f}, this suggests there is room for an increase.')"
      ]
    },
    {
      "cell_type": "markdown",
      "metadata": {
        "id": "vNCf8cqIVTZI"
      },
      "source": [
        "This result should be looked at optimistically and doubtfully! The validity of our model lies in the assumption that other resorts accurately set their prices according to what the market (the ticket-buying public) supports. The fact that our resort seems to be charging that much less that what's predicted suggests our resort might be undercharging. \n",
        "But if ours is mispricing itself, are others? It's reasonable to expect that some resorts will be \"overpriced\" and some \"underpriced.\" Or if resorts are pretty good at pricing strategies, it could be that our model is simply lacking some key data? Certainly we know nothing about operating costs, for example, and they would surely help."
      ]
    },
    {
      "cell_type": "markdown",
      "metadata": {
        "id": "14TVu2mVVTZI"
      },
      "source": [
        "## 5.8 Big Mountain Resort In Market Context<a id='5.8_Big_Mountain_Resort_In_Market_Context'></a>"
      ]
    },
    {
      "cell_type": "markdown",
      "metadata": {
        "id": "DdawO6ecVTZI"
      },
      "source": [
        "Features that came up as important in the modeling (not just our final, random forest model) included:\n",
        "* vertical_drop\n",
        "* Snow Making_ac\n",
        "* total_chairs\n",
        "* fastQuads\n",
        "* Runs\n",
        "* LongestRun_mi\n",
        "* trams\n",
        "* SkiableTerrain_ac"
      ]
    },
    {
      "cell_type": "markdown",
      "metadata": {
        "id": "gFuKD6ftVTZI"
      },
      "source": [
        "A handy glossary of skiing terms can be found on the [ski.com](https://www.ski.com/ski-glossary) site. Some potentially relevant contextual information is that vertical drop, although nominally the height difference from the summit to the base, is generally taken from the highest [_lift-served_](http://verticalfeet.com/) point."
      ]
    },
    {
      "cell_type": "markdown",
      "metadata": {
        "id": "CsptGcS8VTZI"
      },
      "source": [
        "It's often useful to define custom functions for visualizing data in meaningful ways. The function below takes a feature name as an input and plots a histogram of the values of that feature. It then marks where Big Mountain sits in the distribution by marking Big Mountain's value with a vertical line using `matplotlib`'s [axvline](https://matplotlib.org/3.1.1/api/_as_gen/matplotlib.pyplot.axvline.html) function. It also performs a little cleaning up of missing values and adds descriptive labels and a title."
      ]
    },
    {
      "cell_type": "code",
      "execution_count": 17,
      "metadata": {
        "id": "3AbbMV_0VTZJ"
      },
      "outputs": [],
      "source": [
        "#Code task 1#\n",
        "#Add code to the `plot_compare` function that displays a vertical, dashed line\n",
        "#on the histogram to indicate Big Mountain's position in the distribution\n",
        "#Hint: plt.axvline() plots a vertical line, its position for 'feature1'\n",
        "#would be `big_mountain['feature1'].values, we'd like a red line, which can be\n",
        "#specified with c='r', a dashed linestyle is produced by ls='--',\n",
        "#and it's nice to give it a slightly reduced alpha value, such as 0.8.\n",
        "#Don't forget to give it a useful label (e.g. 'Big Mountain') so it's listed\n",
        "#in the legend.\n",
        "def plot_compare(feat_name, description, state=None, figsize=(10, 5)):\n",
        "    \"\"\"Graphically compare distributions of features.\n",
        "    \n",
        "    Plot histogram of values for all resorts and reference line to mark\n",
        "    Big Mountain's position.\n",
        "    \n",
        "    Arguments:\n",
        "    feat_name - the feature column name in the data\n",
        "    description - text description of the feature\n",
        "    state - select a specific state (None for all states)\n",
        "    figsize - (optional) figure size\n",
        "    \"\"\"\n",
        "    \n",
        "    plt.subplots(figsize=figsize)\n",
        "    # quirk that hist sometimes objects to NaNs, sometimes doesn't\n",
        "    # filtering only for finite values tidies this up\n",
        "    if state is None:\n",
        "        ski_x = ski_data[feat_name]\n",
        "    else:\n",
        "        ski_x = ski_data.loc[ski_data.state == state, feat_name]\n",
        "    ski_x = ski_x[np.isfinite(ski_x)]\n",
        "    plt.hist(ski_x, bins=30)\n",
        "    plt.axvline(x=big_mountain[feat_name].values, c='r', ls='--', alpha=0.8, label='Big Mountain')\n",
        "    plt.xlabel(description)\n",
        "    plt.ylabel('frequency')\n",
        "    plt.title(description + ' distribution for resorts in market share')\n",
        "    plt.legend()"
      ]
    },
    {
      "cell_type": "markdown",
      "metadata": {
        "id": "5Ku-iUGjVTZJ"
      },
      "source": [
        "### 5.8.1 Ticket price<a id='5.8.1_Ticket_price'></a>"
      ]
    },
    {
      "cell_type": "markdown",
      "metadata": {
        "id": "gIl_jkc8VTZJ"
      },
      "source": [
        "Look at where Big Mountain sits overall amongst all resorts for price and for just other resorts in Montana."
      ]
    },
    {
      "cell_type": "code",
      "execution_count": 18,
      "metadata": {
        "colab": {
          "base_uri": "https://localhost:8080/",
          "height": 350
        },
        "id": "QqI6XZtRVTZJ",
        "outputId": "ceac13ff-6b54-4566-a37c-805501719721"
      },
      "outputs": [
        {
          "output_type": "display_data",
          "data": {
            "text/plain": [
              "<Figure size 720x360 with 1 Axes>"
            ],
            "image/png": "[encoded data removed]"
          },
          "metadata": {
            "needs_background": "light"
          }
        }
      ],
      "source": [
        "plot_compare('AdultWeekend', 'Adult weekend ticket price ($)')"
      ]
    },
    {
      "cell_type": "code",
      "execution_count": 19,
      "metadata": {
        "colab": {
          "base_uri": "https://localhost:8080/",
          "height": 350
        },
        "id": "8KnjoqGlVTZJ",
        "outputId": "e3915cc1-6459-46d6-fc72-59783e5c8fe0"
      },
      "outputs": [
        {
          "output_type": "display_data",
          "data": {
            "text/plain": [
              "<Figure size 720x360 with 1 Axes>"
            ],
            "image/png": "[encoded data removed]"
          },
          "metadata": {
            "needs_background": "light"
          }
        }
      ],
      "source": [
        "plot_compare('AdultWeekend', 'Adult weekend ticket price ($) - Montana only', state='Montana')"
      ]
    },
    {
      "cell_type": "markdown",
      "metadata": {
        "id": "dNAkE67fVTZJ"
      },
      "source": [
        "### 5.8.2 Vertical drop<a id='5.8.2_Vertical_drop'></a>"
      ]
    },
    {
      "cell_type": "code",
      "execution_count": 20,
      "metadata": {
        "colab": {
          "base_uri": "https://localhost:8080/",
          "height": 350
        },
        "id": "YETfy68ZVTZJ",
        "outputId": "60e1ed28-0e52-4bde-8e0d-5cd35a6b3fbc"
      },
      "outputs": [
        {
          "output_type": "display_data",
          "data": {
            "text/plain": [
              "<Figure size 720x360 with 1 Axes>"
            ],
            "image/png": "[encoded data removed]"
          },
          "metadata": {
            "needs_background": "light"
          }
        }
      ],
      "source": [
        "plot_compare('vertical_drop', 'Vertical drop (feet)')"
      ]
    },
    {
      "cell_type": "markdown",
      "metadata": {
        "id": "xLJP6QuDVTZK"
      },
      "source": [
        "Big Mountain is doing well for vertical drop, but there are still quite a few resorts with a greater drop."
      ]
    },
    {
      "cell_type": "markdown",
      "metadata": {
        "id": "y_JI91gCVTZK"
      },
      "source": [
        "### 5.8.3 Snow making area<a id='5.8.3_Snow_making_area'></a>"
      ]
    },
    {
      "cell_type": "code",
      "execution_count": 21,
      "metadata": {
        "colab": {
          "base_uri": "https://localhost:8080/",
          "height": 350
        },
        "id": "4CsSpKmhVTZK",
        "outputId": "c21c4b54-9d07-49a8-ab73-bde2ffe326c4"
      },
      "outputs": [
        {
          "output_type": "display_data",
          "data": {
            "text/plain": [
              "<Figure size 720x360 with 1 Axes>"
            ],
            "image/png": "[encoded data removed]"
          },
          "metadata": {
            "needs_background": "light"
          }
        }
      ],
      "source": [
        "plot_compare('Snow Making_ac', 'Area covered by snow makers (acres)')"
      ]
    },
    {
      "cell_type": "markdown",
      "metadata": {
        "id": "-MiEZshCVTZK"
      },
      "source": [
        "Big Mountain is very high up the league table of snow making area."
      ]
    },
    {
      "cell_type": "markdown",
      "metadata": {
        "id": "-4hzSowjVTZK"
      },
      "source": [
        "### 5.8.4 Total number of chairs<a id='5.8.4_Total_number_of_chairs'></a>"
      ]
    },
    {
      "cell_type": "code",
      "execution_count": 22,
      "metadata": {
        "colab": {
          "base_uri": "https://localhost:8080/",
          "height": 350
        },
        "id": "DEhV4OlYVTZK",
        "outputId": "c7be1de7-da9c-486b-d69f-f2d4b12488f8"
      },
      "outputs": [
        {
          "output_type": "display_data",
          "data": {
            "text/plain": [
              "<Figure size 720x360 with 1 Axes>"
            ],
            "image/png": "[encoded data removed]"
          },
          "metadata": {
            "needs_background": "light"
          }
        }
      ],
      "source": [
        "plot_compare('total_chairs', 'Total number of chairs')"
      ]
    },
    {
      "cell_type": "markdown",
      "metadata": {
        "id": "eh-mUXnkVTZK"
      },
      "source": [
        "Big Mountain has amongst the highest number of total chairs, resorts with more appear to be outliers."
      ]
    },
    {
      "cell_type": "markdown",
      "metadata": {
        "id": "mv22O5elVTZL"
      },
      "source": [
        "### 5.8.5 Fast quads<a id='5.8.5_Fast_quads'></a>"
      ]
    },
    {
      "cell_type": "code",
      "execution_count": 23,
      "metadata": {
        "colab": {
          "base_uri": "https://localhost:8080/",
          "height": 350
        },
        "id": "E8zDQ_hEVTZL",
        "outputId": "3f8c0d66-0153-4cae-e6d7-1fd0a13262f8"
      },
      "outputs": [
        {
          "output_type": "display_data",
          "data": {
            "text/plain": [
              "<Figure size 720x360 with 1 Axes>"
            ],
            "image/png": "[encoded data removed]"
          },
          "metadata": {
            "needs_background": "light"
          }
        }
      ],
      "source": [
        "plot_compare('fastQuads', 'Number of fast quads')"
      ]
    },
    {
      "cell_type": "markdown",
      "metadata": {
        "id": "IpguNlIoVTZL"
      },
      "source": [
        "Most resorts have no fast quads. Big Mountain has 3, which puts it high up that league table. There are some values  much higher, but they are rare."
      ]
    },
    {
      "cell_type": "markdown",
      "metadata": {
        "id": "PFjEGbP7VTZL"
      },
      "source": [
        "### 5.8.6 Runs<a id='5.8.6_Runs'></a>"
      ]
    },
    {
      "cell_type": "code",
      "execution_count": 24,
      "metadata": {
        "colab": {
          "base_uri": "https://localhost:8080/",
          "height": 350
        },
        "id": "e9ze2y--VTZL",
        "outputId": "51b3f72d-6eaa-40c0-ef02-e4914bb1d4c9"
      },
      "outputs": [
        {
          "output_type": "display_data",
          "data": {
            "text/plain": [
              "<Figure size 720x360 with 1 Axes>"
            ],
            "image/png": "[encoded data removed]"
          },
          "metadata": {
            "needs_background": "light"
          }
        }
      ],
      "source": [
        "plot_compare('Runs', 'Total number of runs')"
      ]
    },
    {
      "cell_type": "markdown",
      "metadata": {
        "id": "Q5HMxUQ5VTZL"
      },
      "source": [
        "Big Mountain compares well for the number of runs. There are some resorts with more, but not many."
      ]
    },
    {
      "cell_type": "markdown",
      "metadata": {
        "id": "mIFXEI_LVTZL"
      },
      "source": [
        "### 5.8.7 Longest run<a id='5.8.7_Longest_run'></a>"
      ]
    },
    {
      "cell_type": "code",
      "execution_count": 25,
      "metadata": {
        "colab": {
          "base_uri": "https://localhost:8080/",
          "height": 350
        },
        "id": "UFHLIlQuVTZL",
        "outputId": "ef5b14b1-a06e-4a7a-f17a-f81c0b33b285"
      },
      "outputs": [
        {
          "output_type": "display_data",
          "data": {
            "text/plain": [
              "<Figure size 720x360 with 1 Axes>"
            ],
            "image/png": "[encoded data removed]"
          },
          "metadata": {
            "needs_background": "light"
          }
        }
      ],
      "source": [
        "plot_compare('LongestRun_mi', 'Longest run length (miles)')"
      ]
    },
    {
      "cell_type": "markdown",
      "metadata": {
        "id": "lNKvk8RHVTZL"
      },
      "source": [
        "Big Mountain has one of the longest runs. Although it is just over half the length of the longest, the longer ones are rare."
      ]
    },
    {
      "cell_type": "markdown",
      "metadata": {
        "id": "HeDZRcvVVTZL"
      },
      "source": [
        "### 5.8.8 Trams<a id='5.8.8_Trams'></a>"
      ]
    },
    {
      "cell_type": "code",
      "execution_count": 26,
      "metadata": {
        "colab": {
          "base_uri": "https://localhost:8080/",
          "height": 350
        },
        "id": "vJZFYK4gVTZM",
        "outputId": "9cd925f4-c323-42ae-acfe-4e04f0896493"
      },
      "outputs": [
        {
          "output_type": "display_data",
          "data": {
            "text/plain": [
              "<Figure size 720x360 with 1 Axes>"
            ],
            "image/png": "[encoded data removed]"
          },
          "metadata": {
            "needs_background": "light"
          }
        }
      ],
      "source": [
        "plot_compare('trams', 'Number of trams')"
      ]
    },
    {
      "cell_type": "markdown",
      "metadata": {
        "id": "nWk2ROyRVTZM"
      },
      "source": [
        "The vast majority of resorts, such as Big Mountain, have no trams."
      ]
    },
    {
      "cell_type": "markdown",
      "metadata": {
        "id": "VopeW8vuVTZM"
      },
      "source": [
        "### 5.8.9 Skiable terrain area<a id='5.8.9_Skiable_terrain_area'></a>"
      ]
    },
    {
      "cell_type": "code",
      "execution_count": 27,
      "metadata": {
        "colab": {
          "base_uri": "https://localhost:8080/",
          "height": 350
        },
        "id": "T0-5QlJ8VTZM",
        "outputId": "7f77e8d0-a6b5-4d52-a885-7da2d62d4350"
      },
      "outputs": [
        {
          "output_type": "display_data",
          "data": {
            "text/plain": [
              "<Figure size 720x360 with 1 Axes>"
            ],
            "image/png": "[encoded data removed]"
          },
          "metadata": {
            "needs_background": "light"
          }
        }
      ],
      "source": [
        "plot_compare('SkiableTerrain_ac', 'Skiable terrain area (acres)')"
      ]
    },
    {
      "cell_type": "markdown",
      "metadata": {
        "id": "jJr3Qpt-VTZM"
      },
      "source": [
        "Big Mountain is amongst the resorts with the largest amount of skiable terrain."
      ]
    },
    {
      "cell_type": "markdown",
      "metadata": {
        "id": "Tab_qJpMVTZM"
      },
      "source": [
        "## 5.9 Modeling scenarios<a id='5.9_Modeling_scenarios'></a>"
      ]
    },
    {
      "cell_type": "markdown",
      "metadata": {
        "id": "9o0wokACVTZM"
      },
      "source": [
        "Big Mountain Resort has been reviewing potential scenarios for either cutting costs or increasing revenue (from ticket prices). Ticket price is not determined by any set of parameters; the resort is free to set whatever price it likes. However, the resort operates within a market where people pay more for certain facilities, and less for others. Being able to sense how facilities support a given ticket price is valuable business intelligence. This is where the utility of our model comes in.\n",
        "\n",
        "The business has shortlisted some options:\n",
        "1. Permanently closing down up to 10 of the least used runs. This doesn't impact any other resort statistics.\n",
        "2. Increase the vertical drop by adding a run to a point 150 feet lower down but requiring the installation of an additional chair lift to bring skiers back up, without additional snow making coverage\n",
        "3. Same as number 2, but adding 2 acres of snow making cover\n",
        "4. Increase the longest run by 0.2 mile to boast 3.5 miles length, requiring an additional snow making coverage of 4 acres\n",
        "\n",
        "The expected number of visitors over the season is 350,000 and, on average, visitors ski for five days. Assume the provided data includes the additional lift that Big Mountain recently installed."
      ]
    },
    {
      "cell_type": "code",
      "execution_count": 28,
      "metadata": {
        "id": "MszaQIg5VTZM"
      },
      "outputs": [],
      "source": [
        "expected_visitors = 350_000"
      ]
    },
    {
      "cell_type": "code",
      "execution_count": 29,
      "metadata": {
        "colab": {
          "base_uri": "https://localhost:8080/",
          "height": 81
        },
        "id": "9oqW3ejsVTZN",
        "outputId": "3d37e584-1e82-4427-f98c-1c9bf26f82e1"
      },
      "outputs": [
        {
          "output_type": "execute_result",
          "data": {
            "text/plain": [
              "     vertical_drop  Snow Making_ac  total_chairs  fastQuads   Runs  \\\n",
              "124           2353           600.0            14          3  105.0   \n",
              "\n",
              "     LongestRun_mi  trams  SkiableTerrain_ac  \n",
              "124            3.3      0             3000.0  "
            ],
            "text/html": [
              "\n",
              "  <div id=\"df-7d73c57e-3acb-43e0-8289-d9c23158bb19\">\n",
              "    <div class=\"colab-df-container\">\n",
              "      <div>\n",
              "<style scoped>\n",
              "    .dataframe tbody tr th:only-of-type {\n",
              "        vertical-align: middle;\n",
              "    }\n",
              "\n",
              "    .dataframe tbody tr th {\n",
              "        vertical-align: top;\n",
              "    }\n",
              "\n",
              "    .dataframe thead th {\n",
              "        text-align: right;\n",
              "    }\n",
              "</style>\n",
              "<table border=\"1\" class=\"dataframe\">\n",
              "  <thead>\n",
              "    <tr style=\"text-align: right;\">\n",
              "      <th></th>\n",
              "      <th>vertical_drop</th>\n",
              "      <th>Snow Making_ac</th>\n",
              "      <th>total_chairs</th>\n",
              "      <th>fastQuads</th>\n",
              "      <th>Runs</th>\n",
              "      <th>LongestRun_mi</th>\n",
              "      <th>trams</th>\n",
              "      <th>SkiableTerrain_ac</th>\n",
              "    </tr>\n",
              "  </thead>\n",
              "  <tbody>\n",
              "    <tr>\n",
              "      <th>124</th>\n",
              "      <td>2353</td>\n",
              "      <td>600.0</td>\n",
              "      <td>14</td>\n",
              "      <td>3</td>\n",
              "      <td>105.0</td>\n",
              "      <td>3.3</td>\n",
              "      <td>0</td>\n",
              "      <td>3000.0</td>\n",
              "    </tr>\n",
              "  </tbody>\n",
              "</table>\n",
              "</div>\n",
              "      <button class=\"colab-df-convert\" onclick=\"convertToInteractive('df-7d73c57e-3acb-43e0-8289-d9c23158bb19')\"\n",
              "              title=\"Convert this dataframe to an interactive table.\"\n",
              "              style=\"display:none;\">\n",
              "        \n",
              "  <svg xmlns=\"http://www.w3.org/2000/svg\" height=\"24px\"viewBox=\"0 0 24 24\"\n",
              "       width=\"24px\">\n",
              "    <path d=\"M0 0h24v24H0V0z\" fill=\"none\"/>\n",
              "    <path d=\"M18.56 5.44l.94 2.06.94-2.06 2.06-.94-2.06-.94-.94-2.06-.94 2.06-2.06.94zm-11 1L8.5 8.5l.94-2.06 2.06-.94-2.06-.94L8.5 2.5l-.94 2.06-2.06.94zm10 10l.94 2.06.94-2.06 2.06-.94-2.06-.94-.94-2.06-.94 2.06-2.06.94z\"/><path d=\"M17.41 7.96l-1.37-1.37c-.4-.4-.92-.59-1.43-.59-.52 0-1.04.2-1.43.59L10.3 9.45l-7.72 7.72c-.78.78-.78 2.05 0 2.83L4 21.41c.39.39.9.59 1.41.59.51 0 1.02-.2 1.41-.59l7.78-7.78 2.81-2.81c.8-.78.8-2.07 0-2.86zM5.41 20L4 18.59l7.72-7.72 1.47 1.35L5.41 20z\"/>\n",
              "  </svg>\n",
              "      </button>\n",
              "      \n",
              "  <style>\n",
              "    .colab-df-container {\n",
              "      display:flex;\n",
              "      flex-wrap:wrap;\n",
              "      gap: 12px;\n",
              "    }\n",
              "\n",
              "    .colab-df-convert {\n",
              "      background-color: #E8F0FE;\n",
              "      border: none;\n",
              "      border-radius: 50%;\n",
              "      cursor: pointer;\n",
              "      display: none;\n",
              "      fill: #1967D2;\n",
              "      height: 32px;\n",
              "      padding: 0 0 0 0;\n",
              "      width: 32px;\n",
              "    }\n",
              "\n",
              "    .colab-df-convert:hover {\n",
              "      background-color: #E2EBFA;\n",
              "      box-shadow: 0px 1px 2px rgba(60, 64, 67, 0.3), 0px 1px 3px 1px rgba(60, 64, 67, 0.15);\n",
              "      fill: #174EA6;\n",
              "    }\n",
              "\n",
              "    [theme=dark] .colab-df-convert {\n",
              "      background-color: #3B4455;\n",
              "      fill: #D2E3FC;\n",
              "    }\n",
              "\n",
              "    [theme=dark] .colab-df-convert:hover {\n",
              "      background-color: #434B5C;\n",
              "      box-shadow: 0px 1px 3px 1px rgba(0, 0, 0, 0.15);\n",
              "      filter: drop-shadow(0px 1px 2px rgba(0, 0, 0, 0.3));\n",
              "      fill: #FFFFFF;\n",
              "    }\n",
              "  </style>\n",
              "\n",
              "      <script>\n",
              "        const buttonEl =\n",
              "          document.querySelector('#df-7d73c57e-3acb-43e0-8289-d9c23158bb19 button.colab-df-convert');\n",
              "        buttonEl.style.display =\n",
              "          google.colab.kernel.accessAllowed ? 'block' : 'none';\n",
              "\n",
              "        async function convertToInteractive(key) {\n",
              "          const element = document.querySelector('#df-7d73c57e-3acb-43e0-8289-d9c23158bb19');\n",
              "          const dataTable =\n",
              "            await google.colab.kernel.invokeFunction('convertToInteractive',\n",
              "                                                     [key], {});\n",
              "          if (!dataTable) return;\n",
              "\n",
              "          const docLinkHtml = 'Like what you see? Visit the ' +\n",
              "            '<a target=\"_blank\" href=https://colab.research.google.com/notebooks/data_table.ipynb>data table notebook</a>'\n",
              "            + ' to learn more about interactive tables.';\n",
              "          element.innerHTML = '';\n",
              "          dataTable['output_type'] = 'display_data';\n",
              "          await google.colab.output.renderOutput(dataTable, element);\n",
              "          const docLink = document.createElement('div');\n",
              "          docLink.innerHTML = docLinkHtml;\n",
              "          element.appendChild(docLink);\n",
              "        }\n",
              "      </script>\n",
              "    </div>\n",
              "  </div>\n",
              "  "
            ]
          },
          "metadata": {},
          "execution_count": 29
        }
      ],
      "source": [
        "all_feats = ['vertical_drop', 'Snow Making_ac', 'total_chairs', 'fastQuads', \n",
        "             'Runs', 'LongestRun_mi', 'trams', 'SkiableTerrain_ac']\n",
        "big_mountain[all_feats]"
      ]
    },
    {
      "cell_type": "code",
      "execution_count": 30,
      "metadata": {
        "id": "6JypdRKUVTZN"
      },
      "outputs": [],
      "source": [
        "#Code task 2#\n",
        "#In this function, copy the Big Mountain data into a new data frame\n",
        "#(Note we use .copy()!)\n",
        "#And then for each feature, and each of its deltas (changes from the original),\n",
        "#create the modified scenario dataframe (bm2) and make a ticket price prediction\n",
        "#for it. The difference between the scenario's prediction and the current\n",
        "#prediction is then calculated and returned.\n",
        "#Complete the code to increment each feature by the associated delta\n",
        "def predict_increase(features, deltas):\n",
        "    \"\"\"Increase in modelled ticket price by applying delta to feature.\n",
        "    \n",
        "    Arguments:\n",
        "    features - list, names of the features in the ski_data dataframe to change\n",
        "    deltas - list, the amounts by which to increase the values of the features\n",
        "    \n",
        "    Outputs:\n",
        "    Amount of increase in the predicted ticket price\n",
        "    \"\"\"\n",
        "    \n",
        "    bm2 = X_bm.copy()\n",
        "    for f, d in zip(features, deltas):\n",
        "        bm2[features] += deltas\n",
        "    return model.predict(bm2).item() - model.predict(X_bm).item()"
      ]
    },
    {
      "cell_type": "markdown",
      "metadata": {
        "id": "L7ZLruifVTZN"
      },
      "source": [
        "### 5.9.1 Scenario 1<a id='5.9.1_Scenario_1'></a>"
      ]
    },
    {
      "cell_type": "markdown",
      "metadata": {
        "id": "IIgwrWQjVTZN"
      },
      "source": [
        "Close up to 10 of the least used runs. The number of runs is the only parameter varying."
      ]
    },
    {
      "cell_type": "code",
      "execution_count": 31,
      "metadata": {
        "colab": {
          "base_uri": "https://localhost:8080/"
        },
        "id": "GVLGT1O0VTZN",
        "outputId": "7b1e4bff-d1a5-4199-fe71-7a06fec2b584"
      },
      "outputs": [
        {
          "output_type": "execute_result",
          "data": {
            "text/plain": [
              "[-1, -2, -3, -4, -5, -6, -7, -8, -9, -10]"
            ]
          },
          "metadata": {},
          "execution_count": 31
        }
      ],
      "source": [
        "[i for i in range(-1, -11, -1)]"
      ]
    },
    {
      "cell_type": "code",
      "execution_count": 32,
      "metadata": {
        "id": "OBJfVSdjVTZO"
      },
      "outputs": [],
      "source": [
        "runs_delta = [i for i in range(-1, -11, -1)]\n",
        "price_deltas = [predict_increase(['Runs'], [delta]) for delta in runs_delta]"
      ]
    },
    {
      "cell_type": "code",
      "execution_count": 33,
      "metadata": {
        "colab": {
          "base_uri": "https://localhost:8080/"
        },
        "id": "wFQJKLGrVTZO",
        "outputId": "7bb85eba-a6fb-4fa6-b84e-e75c6172d001"
      },
      "outputs": [
        {
          "output_type": "execute_result",
          "data": {
            "text/plain": [
              "[0.0,\n",
              " -0.4057971014492807,\n",
              " -0.6666666666666714,\n",
              " -0.6666666666666714,\n",
              " -0.6666666666666714,\n",
              " -1.2608695652173907,\n",
              " -1.2608695652173907,\n",
              " -1.2608695652173907,\n",
              " -1.7101449275362341,\n",
              " -1.8115942028985472]"
            ]
          },
          "metadata": {},
          "execution_count": 33
        }
      ],
      "source": [
        "price_deltas"
      ]
    },
    {
      "cell_type": "code",
      "execution_count": 34,
      "metadata": {
        "colab": {
          "base_uri": "https://localhost:8080/",
          "height": 350
        },
        "id": "RYdfVKpiVTZO",
        "outputId": "3435524e-081b-4595-9b70-0354f3de1dd3"
      },
      "outputs": [
        {
          "output_type": "display_data",
          "data": {
            "text/plain": [
              "<Figure size 720x360 with 2 Axes>"
            ],
            "image/png": "[encoded data removed]"
          },
          "metadata": {
            "needs_background": "light"
          }
        }
      ],
      "source": [
        "#Code task 3#\n",
        "#Create two plots, side by side, for the predicted ticket price change (delta) for each\n",
        "#condition (number of runs closed) in the scenario and the associated predicted revenue\n",
        "#change on the assumption that each of the expected visitors buys 5 tickets\n",
        "#There are two things to do here:\n",
        "#1 - use a list comprehension to create a list of the number of runs closed from `runs_delta`\n",
        "#2 - use a list comprehension to create a list of predicted revenue changes from `price_deltas`\n",
        "runs_closed = [-1 * x for x in runs_delta] #1\n",
        "fig, ax = plt.subplots(1, 2, figsize=(10, 5))\n",
        "fig.subplots_adjust(wspace=0.5)\n",
        "ax[0].plot(runs_closed, price_deltas, 'o-')\n",
        "ax[0].set(xlabel='Runs closed', ylabel='Change ($)', title='Ticket price')\n",
        "revenue_deltas = [5 * expected_visitors * y for y in price_deltas] #2\n",
        "ax[1].plot(runs_closed, revenue_deltas, 'o-')\n",
        "ax[1].set(xlabel='Runs closed', ylabel='Change ($)', title='Revenue');"
      ]
    },
    {
      "cell_type": "markdown",
      "metadata": {
        "id": "gQV3ihZiVTZO"
      },
      "source": [
        "The model says closing one run makes no difference. Closing 2 and 3 successively reduces support for ticket price and so revenue. If Big Mountain closes down 3 runs, it seems they may as well close down 4 or 5 as there's no further loss in ticket price. Increasing the closures down to 6 or more leads to a large drop. "
      ]
    },
    {
      "cell_type": "markdown",
      "metadata": {
        "id": "A-wlnK7PVTZO"
      },
      "source": [
        "### 5.9.2 Scenario 2<a id='5.9.2_Scenario_2'></a>"
      ]
    },
    {
      "cell_type": "markdown",
      "metadata": {
        "id": "alx2elr2VTZO"
      },
      "source": [
        "In this scenario, Big Mountain is adding a run, increasing the vertical drop by 150 feet, and installing an additional chair lift."
      ]
    },
    {
      "cell_type": "code",
      "execution_count": 36,
      "metadata": {
        "id": "HvrjPFaDVTZO"
      },
      "outputs": [],
      "source": [
        "#Code task 4#\n",
        "#Call `predict_increase` with a list of the features 'Runs', 'vertical_drop', and 'total_chairs'\n",
        "#and associated deltas of 1, 150, and 1\n",
        "ticket2_increase = predict_increase(['Runs', 'vertical_drop', 'total_chairs'], [1, 150, 1])\n",
        "revenue2_increase = 5 * expected_visitors * ticket2_increase"
      ]
    },
    {
      "cell_type": "code",
      "execution_count": 37,
      "metadata": {
        "colab": {
          "base_uri": "https://localhost:8080/"
        },
        "id": "hWFb4IomVTZP",
        "outputId": "397fba06-a97e-41db-f6e3-76aac37c2826"
      },
      "outputs": [
        {
          "output_type": "stream",
          "name": "stdout",
          "text": [
            "This scenario increases support for ticket price by $8.61\n",
            "Over the season, this could be expected to amount to $15065471\n"
          ]
        }
      ],
      "source": [
        "print(f'This scenario increases support for ticket price by ${ticket2_increase:.2f}')\n",
        "print(f'Over the season, this could be expected to amount to ${revenue2_increase:.0f}')"
      ]
    },
    {
      "cell_type": "markdown",
      "metadata": {
        "id": "sxleKeRnVTZP"
      },
      "source": [
        "### 5.9.3 Scenario 3<a id='5.9.3_Scenario_3'></a>"
      ]
    },
    {
      "cell_type": "markdown",
      "metadata": {
        "id": "XCGEojbBVTZP"
      },
      "source": [
        "In this scenario, you are repeating the previous one but adding 2 acres of snow making."
      ]
    },
    {
      "cell_type": "code",
      "execution_count": 38,
      "metadata": {
        "id": "1jJyTwjZVTZP"
      },
      "outputs": [],
      "source": [
        "#Code task 5#\n",
        "#Repeat scenario 2 conditions, but add an increase of 2 to `Snow Making_ac`\n",
        "ticket3_increase = predict_increase(['Runs', 'vertical_drop', 'total_chairs', 'Snow Making_ac'], [1, 150, 1, 2])\n",
        "revenue3_increase = 5 * expected_visitors * ticket3_increase"
      ]
    },
    {
      "cell_type": "code",
      "execution_count": 39,
      "metadata": {
        "colab": {
          "base_uri": "https://localhost:8080/"
        },
        "id": "CWnpi63XVTZP",
        "outputId": "72aaea2c-3e24-472d-e974-47ad6eae5039"
      },
      "outputs": [
        {
          "output_type": "stream",
          "name": "stdout",
          "text": [
            "This scenario increases support for ticket price by $9.90\n",
            "Over the season, this could be expected to amount to $17322717\n"
          ]
        }
      ],
      "source": [
        "print(f'This scenario increases support for ticket price by ${ticket3_increase:.2f}')\n",
        "print(f'Over the season, this could be expected to amount to ${revenue3_increase:.0f}')"
      ]
    },
    {
      "cell_type": "markdown",
      "metadata": {
        "id": "uTWlw43JVTZP"
      },
      "source": [
        "Such a small increase in the snow making area makes no difference!"
      ]
    },
    {
      "cell_type": "markdown",
      "metadata": {
        "id": "2au2c5yOVTZP"
      },
      "source": [
        "### 5.9.4 Scenario 4<a id='5.9.4_Scenario_4'></a>"
      ]
    },
    {
      "cell_type": "markdown",
      "metadata": {
        "id": "Km5LDufcVTZP"
      },
      "source": [
        "This scenario calls for increasing the longest run by .2 miles and guaranteeing its snow coverage by adding 4 acres of snow making capability."
      ]
    },
    {
      "cell_type": "code",
      "execution_count": 40,
      "metadata": {
        "colab": {
          "base_uri": "https://localhost:8080/"
        },
        "id": "rZW2N9RHVTZP",
        "outputId": "51fa49b6-2ba3-413f-abd4-4dd52524b302"
      },
      "outputs": [
        {
          "output_type": "execute_result",
          "data": {
            "text/plain": [
              "0.0"
            ]
          },
          "metadata": {},
          "execution_count": 40
        }
      ],
      "source": [
        "#Code task 6#\n",
        "#Predict the increase from adding 0.2 miles to `LongestRun_mi` and 4 to `Snow Making_ac`\n",
        "predict_increase(['LongestRun_mi', 'Snow Making_ac'], [0.2, 4])"
      ]
    },
    {
      "cell_type": "markdown",
      "metadata": {
        "id": "vj6CaCjZVTZQ"
      },
      "source": [
        "No difference whatsoever. Although the longest run feature was used in the linear model, the random forest model (the one we chose because of its better performance) only has longest run way down in the feature importance list. "
      ]
    },
    {
      "cell_type": "markdown",
      "metadata": {
        "id": "mkX8mU6YVTZQ"
      },
      "source": [
        "## 5.10 Summary<a id='5.10_Summary'></a>"
      ]
    },
    {
      "cell_type": "markdown",
      "metadata": {
        "id": "pFo7UvrbVTZQ"
      },
      "source": [
        "**Q: 1** Write a summary of the results of modeling these scenarios. Start by starting the current position; how much does Big Mountain currently charge? What does your modelling suggest for a ticket price that could be supported in the marketplace by Big Mountain's facilities? How would you approach suggesting such a change to the business leadership? Discuss the additional operating cost of the new chair lift per ticket (on the basis of each visitor on average buying 5 day tickets) in the context of raising prices to cover this. For future improvements, state which, if any, of the modeled scenarios you'd recommend for further consideration. Suggest how the business might test, and progress, with any run closures."
      ]
    },
    {
      "cell_type": "markdown",
      "metadata": {
        "id": "LV_zQWNJVTZQ"
      },
      "source": [
        "**A: 1** Your answer here"
      ]
    },
    {
      "cell_type": "markdown",
      "metadata": {
        "id": "LxpfFRRiVTZQ"
      },
      "source": [
        "## 5.11 Further work<a id='5.11_Further_work'></a>"
      ]
    },
    {
      "cell_type": "markdown",
      "metadata": {
        "id": "665v32mmVTZQ"
      },
      "source": [
        "**Q: 2** What next? Highlight any deficiencies in the data that hampered or limited this work. The only price data in our dataset were ticket prices. You were provided with information about the additional operating cost of the new chair lift, but what other cost information would be useful? Big Mountain was already fairly high on some of the league charts of facilities offered, but why was its modeled price so much higher than its current price? Would this mismatch come as a surprise to the business executives? How would you find out? Assuming the business leaders felt this model was useful, how would the business make use of it? Would you expect them to come to you every time they wanted to test a new combination of parameters in a scenario? We hope you would have better things to do, so how might this model be made available for business analysts to use and explore?"
      ]
    },
    {
      "cell_type": "markdown",
      "metadata": {
        "id": "_W7laHg0VTZQ"
      },
      "source": [
        "**A: 2** Your answer here"
      ]
    }
  ],
  "metadata": {
    "kernelspec": {
      "display_name": "Python 3",
      "language": "python",
      "name": "python3"
    },
    "language_info": {
      "codemirror_mode": {
        "name": "ipython",
        "version": 3
      },
      "file_extension": ".py",
      "mimetype": "text/x-python",
      "name": "python",
      "nbconvert_exporter": "python",
      "pygments_lexer": "ipython3",
      "version": "3.7.9"
    },
    "toc": {
      "base_numbering": 1,
      "nav_menu": {},
      "number_sections": true,
      "sideBar": true,
      "skip_h1_title": false,
      "title_cell": "Table of Contents",
      "title_sidebar": "Contents",
      "toc_cell": false,
      "toc_position": {},
      "toc_section_display": true,
      "toc_window_display": true
    },
    "varInspector": {
      "cols": {
        "lenName": 16,
        "lenType": 16,
        "lenVar": 40
      },
      "kernels_config": {
        "python": {
          "delete_cmd_postfix": "",
          "delete_cmd_prefix": "del ",
          "library": "var_list.py",
          "varRefreshCmd": "print(var_dic_list())"
        },
        "r": {
          "delete_cmd_postfix": ") ",
          "delete_cmd_prefix": "rm(",
          "library": "var_list.r",
          "varRefreshCmd": "cat(var_dic_list()) "
        }
      },
      "types_to_exclude": [
        "module",
        "function",
        "builtin_function_or_method",
        "instance",
        "_Feature"
      ],
      "window_display": false
    },
    "colab": {
      "provenance": [],
      "collapsed_sections": []
    }
  },
  "nbformat": 4,
  "nbformat_minor": 0
}
